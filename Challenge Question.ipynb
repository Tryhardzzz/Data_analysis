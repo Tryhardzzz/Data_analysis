{
 "cells": [
  {
   "cell_type": "code",
   "execution_count": 1,
   "id": "f9ed3800",
   "metadata": {},
   "outputs": [],
   "source": [
    "#Challenge Question"
   ]
  },
  {
   "cell_type": "code",
   "execution_count": 4,
   "id": "22c12071",
   "metadata": {},
   "outputs": [],
   "source": [
    "import pandas as pd\n",
    "from bokeh.plotting import figure, output_file, show\n",
    "from bokeh.models import ColumnDataSource\n",
    "\n",
    "output_file('flights.html')\n",
    "df = pd.read_csv('flightdata.csv')\n",
    "sample = df.sample(100)\n",
    "source = ColumnDataSource(sample)\n",
    "p=figure()\n",
    "p.circle(x='DepTime', y='DepDelay', source=source, size=10, color='purple')\n",
    "p.title.text = 'Flight Delays'\n",
    "p.xaxis.axis_label = \"Flight Departure Time\"\n",
    "p.yaxis.axis_label = \"Flight Departure Delay\"\n",
    "\n",
    "show(p)"
   ]
  },
  {
   "cell_type": "code",
   "execution_count": null,
   "id": "a9e0c4fd",
   "metadata": {},
   "outputs": [],
   "source": []
  }
 ],
 "metadata": {
  "kernelspec": {
   "display_name": "conda_python3",
   "language": "python",
   "name": "conda_python3"
  },
  "language_info": {
   "codemirror_mode": {
    "name": "ipython",
    "version": 3
   },
   "file_extension": ".py",
   "mimetype": "text/x-python",
   "name": "python",
   "nbconvert_exporter": "python",
   "pygments_lexer": "ipython3",
   "version": "3.10.8"
  }
 },
 "nbformat": 4,
 "nbformat_minor": 5
}
