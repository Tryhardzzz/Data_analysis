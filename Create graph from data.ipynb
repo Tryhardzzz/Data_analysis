{
 "cells": [
  {
   "cell_type": "markdown",
   "id": "0f3a4796",
   "metadata": {},
   "source": [
    "# Summary of taxi trips taken in January 2017"
   ]
  },
  {
   "cell_type": "code",
   "execution_count": 1,
   "id": "a054f5b6",
   "metadata": {},
   "outputs": [],
   "source": [
    "import pandas as pd\n",
    "\n",
    "from bokeh.plotting import figure, output_file, show\n",
    "\n",
    "from bokeh.models import ColumnDataSource\n",
    "\n",
    "\n",
    "output_file('taxidata.html')\n",
    "\n",
    "df = pd.read_csv('/home/ec2-user/yellow_tripdata_2017-01.csv')\n",
    "\n",
    "sample = df.sample (50)\n",
    "\n",
    "source = ColumnDataSource(sample)\n",
    "\n",
    "p=figure()\n",
    "\n",
    "p.circle(x='passenger_count', y='total_amount', source=source, size=10, color='green')\n",
    "\n",
    "p.title.text = 'Taxi rides'\n",
    "\n",
    "p.xaxis.axis_label = \"Passengers\"\n",
    "\n",
    "p.yaxis.axis_label = \"Amount paid\"\n",
    "\n",
    "show(p)"
   ]
  },
  {
   "cell_type": "code",
   "execution_count": null,
   "id": "63c9b8a4",
   "metadata": {},
   "outputs": [],
   "source": []
  }
 ],
 "metadata": {
  "kernelspec": {
   "display_name": "conda_python3",
   "language": "python",
   "name": "conda_python3"
  },
  "language_info": {
   "codemirror_mode": {
    "name": "ipython",
    "version": 3
   },
   "file_extension": ".py",
   "mimetype": "text/x-python",
   "name": "python",
   "nbconvert_exporter": "python",
   "pygments_lexer": "ipython3",
   "version": "3.10.8"
  }
 },
 "nbformat": 4,
 "nbformat_minor": 5
}
